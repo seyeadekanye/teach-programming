{
 "cells": [
  {
   "cell_type": "code",
   "execution_count": 5,
   "metadata": {},
   "outputs": [
    {
     "name": "stdout",
     "output_type": "stream",
     "text": [
      "/Users/Adekanye/Desktop/LearningCenter/teach-programming\r\n"
     ]
    }
   ],
   "source": [
    "!pwd"
   ]
  },
  {
   "cell_type": "code",
   "execution_count": 1,
   "metadata": {},
   "outputs": [],
   "source": [
    "import pandas\n",
    "import csv"
   ]
  },
  {
   "cell_type": "code",
   "execution_count": 13,
   "metadata": {},
   "outputs": [
    {
     "name": "stdout",
     "output_type": "stream",
     "text": [
      "{'classWithMaxIncrease': '1', 'classWithMaxDecrease': '1', 'Max': 41, 'Min': -51}\n"
     ]
    }
   ],
   "source": [
    "with open(\"data/ClassScores.csv\", \"r\", newline='') as csvfile:\n",
    "    data = csv.reader(csvfile)\n",
    "    currentMax = 0\n",
    "    currentMin = 0\n",
    "    dataDict = {'classWithMaxIncrease': '', \n",
    "                'classWithMaxDecrease' : '', \n",
    "                'Max' : currentMax,\n",
    "               'Min' : currentMin}\n",
    "    next(csvfile)\n",
    "    previousScore = None\n",
    "    for row in data:\n",
    "        if previousScore is None:\n",
    "            previousScore = int(row[1])\n",
    "        currentClass = row[0]\n",
    "        currentScore = int(row[1])\n",
    "        if currentScore - previousScore > currentMax:\n",
    "            dataDict['classWithMaxIncrease'] = currentClass\n",
    "            dataDict['Max'] = currentScore - previousScore\n",
    "            currentMax = currentScore - previousScore\n",
    "        if currentScore - previousScore < currentMin:\n",
    "            dataDict['classWithMaxDecrease'] = currentClass\n",
    "            dataDict['Min'] = currentScore - previousScore\n",
    "            currentMin = currentScore - previousScore\n",
    "        previousScore = currentScore\n",
    "        \n",
    "    print(dataDict)"
   ]
  },
  {
   "cell_type": "code",
   "execution_count": null,
   "metadata": {},
   "outputs": [],
   "source": []
  }
 ],
 "metadata": {
  "kernelspec": {
   "display_name": "Python 3",
   "language": "python",
   "name": "python3"
  },
  "language_info": {
   "codemirror_mode": {
    "name": "ipython",
    "version": 3
   },
   "file_extension": ".py",
   "mimetype": "text/x-python",
   "name": "python",
   "nbconvert_exporter": "python",
   "pygments_lexer": "ipython3",
   "version": "3.6.8"
  },
  "latex_envs": {
   "LaTeX_envs_menu_present": true,
   "autoclose": false,
   "autocomplete": true,
   "bibliofile": "biblio.bib",
   "cite_by": "apalike",
   "current_citInitial": 1,
   "eqLabelWithNumbers": true,
   "eqNumInitial": 1,
   "hotkeys": {
    "equation": "Ctrl-E",
    "itemize": "Ctrl-I"
   },
   "labels_anchors": false,
   "latex_user_defs": false,
   "report_style_numbering": false,
   "user_envs_cfg": false
  }
 },
 "nbformat": 4,
 "nbformat_minor": 2
}
