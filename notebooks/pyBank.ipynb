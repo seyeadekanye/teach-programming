{
 "cells": [
  {
   "cell_type": "code",
   "execution_count": 6,
   "metadata": {},
   "outputs": [
    {
     "data": {
      "text/plain": [
       "'../data/budget_data.csv'"
      ]
     },
     "execution_count": 6,
     "metadata": {},
     "output_type": "execute_result"
    }
   ],
   "source": [
    "bankdataCSV = os.path.join(\"..\", \"data\", \"budget_data.csv\")\n",
    "bankdataCSV"
   ]
  },
  {
   "cell_type": "code",
   "execution_count": 11,
   "metadata": {},
   "outputs": [
    {
     "name": "stdout",
     "output_type": "stream",
     "text": [
      "=============================================================\n",
      "Unique months               : 86\n",
      "Total                       : $38382578\n",
      "Average change              : $-2315.12\n",
      "Greatest increase in profits: Feb-2012 ($ 1926159 )\n",
      "Greatest decrease in profits: Sep-2013 ($ -2196167 )\n",
      "=============================================================\n"
     ]
    }
   ],
   "source": [
    "### Old Monolithic Code\n",
    "import os\n",
    "import csv\n",
    "# Include the path for the csv file\n",
    "bankdataCSV = os.path.join(\"..\", \"data\", \"budget_data.csv\")\n",
    "# Open the csv file in read mode\n",
    "with open(bankdataCSV, 'r') as csvfile:\n",
    "    # set the delimiter as commas\n",
    "    data = csv.reader(csvfile, delimiter=',')\n",
    "    \n",
    "    # Skip the first line with header info\n",
    "    next(data)\n",
    "    # Create an empty set to count the number of unique months (check for duplicate months)\n",
    "    unique_months = set()\n",
    "    # set variable for net total results as counter\n",
    "    net_total = 0\n",
    "    # set variable for average change results\n",
    "    chg_sum = 0\n",
    "    row_count = 0\n",
    "    # Set the previous amount to 'none' to account for no comparison against row 1\n",
    "    previous_amount = None\n",
    "    # Set the current maximum increase and decrease to be zero as a starting point\n",
    "    current_max_inc = 0\n",
    "    current_max_dec = 0\n",
    "    # include variable for current maximum inc/dec dates\n",
    "    current_max_inc_date = \"\"\n",
    "    current_max_dec_date = \"\"\n",
    "    # Loop through each row in the dataset\n",
    "    for row in data:\n",
    "        row_count += 1\n",
    "        # Get a unique list of months and add to a set\n",
    "        unique_months.add(row[0])\n",
    "        # Sum the profits and losses column\n",
    "        net_total = net_total + int(row[1])\n",
    "        # Set the current amount to be the row we are iterating over and in index 1 position\n",
    "        current_amount = (int(row[1]))\n",
    "        # If previous amount is none, set previous amount and continue\n",
    "        if previous_amount is None:\n",
    "            previous_amount = (int(row[1]))\n",
    "            # go to the next row if previous amount is none\n",
    "            continue\n",
    "        chg_sum = chg_sum + (current_amount - previous_amount)\n",
    "        # If the current amount - previous amount result is greater than current max increase\n",
    "        if (current_amount) - (previous_amount) > current_max_inc:\n",
    "            current_max_inc = (current_amount - previous_amount)\n",
    "            current_max_inc_date = row[0]\n",
    "        elif (current_amount - previous_amount) < current_max_inc:\n",
    "            pass\n",
    "        if (current_amount - previous_amount) < current_max_dec:\n",
    "            current_max_dec = (current_amount - previous_amount)\n",
    "            current_max_dec_date = row[0]\n",
    "        elif (current_amount - previous_amount) > current_max_dec:\n",
    "            pass\n",
    "        previous_amount = current_amount\n",
    "    print(\"=============================================================\")\n",
    "    print(f\"Unique months               : {len(unique_months)}\")\n",
    "    print(f\"Total                       : ${net_total}\")\n",
    "    print(f\"Average change              : ${round(chg_sum/(row_count-1),2)}\")\n",
    "    print(f\"Greatest increase in profits: {current_max_inc_date} ($ {str(current_max_inc)} )\")\n",
    "    print(f\"Greatest decrease in profits: {current_max_dec_date} ($ {str(current_max_dec)} )\")\n",
    "    print(\"=============================================================\")"
   ]
  },
  {
   "cell_type": "markdown",
   "metadata": {},
   "source": [
    "### The entire code block above essentially performs for tasks:\n",
    "1.) find the number of unique months <br>\n",
    "2.) finds te net total <br>\n",
    "3.) finds the average change <br>\n",
    "4.) finds the greatest increase in profits <br>\n",
    "5.) find the greatest decrease in profits <br>\n",
    "\n",
    "#### These task form a natural grouping. tasks 1-3 can be grouped together, while 4-5 can be group together aswell\n",
    "#### Grouping the code above into seperate functions has the following benefit:\n",
    "- It imporoves readability\n",
    "- It makes debugging easier\n",
    "- It speeds up development\n",
    "- Writing functions is fun when everything comes together!\n",
    "\n",
    "# Pseudo code time\n",
    "\n",
    "#### First function\n",
    "- This function will calculate the number of unique months, the net total, and then using those two, calculate the average change.\n",
    "- The first question to ask your self is what does this function require as input? the answer is 'the csv file' (budget_data.csv in this case)\n",
    "- The next question is what do I expects as an output. The answer is number of unique months, net total, and average change.\n",
    "\n",
    "So tying it all together, I expect the first function to do somthing like this:\n",
    "\n",
    "```python\n",
    "def calculate_unique_months_net_total_and_average_change(csv_file):\n",
    "    # necessary calculations done here\n",
    "    return unique_month_count, net_total, average_change\n",
    "```\n",
    "\n",
    "#### Second function\n",
    "- This function calculate the greatest profit and greatest loss\n",
    "- for this calculation, depending on which is greater between previous amount and current amount, determines wether we compute for greatest profit or greatest loss\n",
    "- Again we ask ourselves, what does this function require as input? The answer is 'the csv file'\n",
    "- What outputs do we expect this function to give us? The gretest profit, greatest loss, greatest_profit_date and greatest_loss_date.\n",
    "\n",
    "So tying it all together, I expect the second function to do somthing like this:\n",
    "\n",
    "```python\n",
    "def calculate_greatest_profit_and_greatest_loss(csv_file):\n",
    "    # necessary calculations done here\n",
    "    return greatest_profit, greatest_loss, greatest_profit_date, greatest_loss_date\n",
    "```"
   ]
  },
  {
   "cell_type": "code",
   "execution_count": 42,
   "metadata": {},
   "outputs": [],
   "source": [
    "### Here we will define function one\n",
    "import csv\n",
    "\n",
    "def calculate_unique_months_net_total_and_average_change(csv_file):\n",
    "    with open(csv_file, 'r') as csvfile:\n",
    "        data = csv.reader(csvfile, delimiter=',')\n",
    "        next(data)\n",
    "        previous_amount = int(next(data)[1])\n",
    "        unique_months = set()\n",
    "        net_total = previous_amount\n",
    "        chg_sum = 0\n",
    "        row_count = 0\n",
    "        for row in data:\n",
    "            row_count += 1\n",
    "            unique_months.add(row[0])\n",
    "            net_total = net_total + int(row[1])\n",
    "            current_amount = int(row[1])\n",
    "            chg_sum += (current_amount - previous_amount)\n",
    "            previous_amount = current_amount\n",
    "        unique_month_count = len(unique_months)\n",
    "        average_change = chg_sum / row_count\n",
    "    return unique_month_count, net_total, average_change"
   ]
  },
  {
   "cell_type": "code",
   "execution_count": 43,
   "metadata": {},
   "outputs": [
    {
     "data": {
      "text/plain": [
       "(85, 38382578, -2315.1176470588234)"
      ]
     },
     "execution_count": 43,
     "metadata": {},
     "output_type": "execute_result"
    }
   ],
   "source": [
    "### Validation to see if the function works\n",
    "calculate_unique_months_net_total_and_average_change(bankdataCSV)"
   ]
  },
  {
   "cell_type": "code",
   "execution_count": 36,
   "metadata": {},
   "outputs": [],
   "source": [
    "### Here we will define function two\n",
    "import csv\n",
    "\n",
    "def calculate_greatest_profit_and_greatest_loss(csv_file):\n",
    "    with open(csv_file, 'r') as csvfile:\n",
    "        data = csv.reader(csvfile, delimiter=',')\n",
    "        next(data)\n",
    "        previous_amount = int(next(data)[1])\n",
    "        current_max_inc = 0\n",
    "        current_max_dec = 0\n",
    "        current_max_inc_date = \"\"\n",
    "        current_max_dec_date = \"\"\n",
    "        for row in data:\n",
    "            current_amount = int(row[1])\n",
    "            change = current_amount - previous_amount\n",
    "            date = row[0]\n",
    "            if (current_amount > previous_amount) and (change > current_max_inc):\n",
    "                current_max_inc = change\n",
    "                current_max_inc_date = date\n",
    "            if (current_amount < previous_amount) and (change < current_max_dec):\n",
    "                current_max_dec = change\n",
    "                current_max_dec_date = date\n",
    "            previous_amount = current_amount\n",
    "        greatest_profit = current_max_inc\n",
    "        greatest_profit_date = current_max_inc_date\n",
    "        greatest_loss = current_max_dec\n",
    "        greatest_loss_date = current_max_dec_date\n",
    "    return greatest_profit, greatest_loss, greatest_profit_date, greatest_loss_date"
   ]
  },
  {
   "cell_type": "code",
   "execution_count": 37,
   "metadata": {},
   "outputs": [
    {
     "data": {
      "text/plain": [
       "(1926159, -2196167, 'Feb-2012', 'Sep-2013')"
      ]
     },
     "execution_count": 37,
     "metadata": {},
     "output_type": "execute_result"
    }
   ],
   "source": [
    "### Validation to see if the function works\n",
    "calculate_greatest_profit_and_greatest_loss(bankdataCSV)"
   ]
  },
  {
   "cell_type": "code",
   "execution_count": 38,
   "metadata": {},
   "outputs": [],
   "source": [
    "### So now that we see both functions give us what we need, lets bring the two of them together to solve the homework\n",
    "### We will define one last function whose job is just to print the results produced by the other two functions\n",
    "### We can call this function whatever, I will call it pyBank to match the file name\n",
    "### the function pyBank will take the csv_file as input. Why? you might ask. The reason is the pyBank acts as an entry\n",
    "### point into the other functions. Since the other functions require the csv_file, then we need to pass that into\n",
    "### pyBank function and it will in turn pass the to the other function.... So here we go\n",
    "\n",
    "def pyBank(csv_file):\n",
    "    unique_month_count, net_total, average_change = calculate_unique_months_net_total_and_average_change(csv_file)\n",
    "    greatest_profit, greatest_loss, greatest_profit_date, greatest_loss_date = calculate_greatest_profit_and_greatest_loss(csv_file)\n",
    "    print(\"=============================================================\")\n",
    "    print(f\"Unique months               : {unique_month_count}\")\n",
    "    print(f\"Total                       : ${net_total}\")\n",
    "    print(f\"Average change              : ${round(average_change ,2)}\")\n",
    "    print(f\"Greatest increase in profits: {greatest_profit_date} ($ {str(greatest_profit)} )\")\n",
    "    print(f\"Greatest decrease in profits: {greatest_loss_date} ($ {str(greatest_loss)} )\")\n",
    "    print(\"=============================================================\")"
   ]
  },
  {
   "cell_type": "code",
   "execution_count": 39,
   "metadata": {},
   "outputs": [
    {
     "name": "stdout",
     "output_type": "stream",
     "text": [
      "=============================================================\n",
      "Unique months               : 85\n",
      "Total                       : $37514694\n",
      "Average change              : $-2342.68\n",
      "Greatest increase in profits: Feb-2012 ($ 1926159 )\n",
      "Greatest decrease in profits: Sep-2013 ($ -2196167 )\n",
      "=============================================================\n"
     ]
    }
   ],
   "source": [
    "#### Fingers crosses, this should work.....\n",
    "pyBank(bankdataCSV)"
   ]
  },
  {
   "cell_type": "code",
   "execution_count": null,
   "metadata": {},
   "outputs": [],
   "source": []
  }
 ],
 "metadata": {
  "kernelspec": {
   "display_name": "Python 3",
   "language": "python",
   "name": "python3"
  },
  "language_info": {
   "codemirror_mode": {
    "name": "ipython",
    "version": 3
   },
   "file_extension": ".py",
   "mimetype": "text/x-python",
   "name": "python",
   "nbconvert_exporter": "python",
   "pygments_lexer": "ipython3",
   "version": "3.6.8"
  },
  "latex_envs": {
   "LaTeX_envs_menu_present": true,
   "autoclose": false,
   "autocomplete": true,
   "bibliofile": "biblio.bib",
   "cite_by": "apalike",
   "current_citInitial": 1,
   "eqLabelWithNumbers": true,
   "eqNumInitial": 1,
   "hotkeys": {
    "equation": "Ctrl-E",
    "itemize": "Ctrl-I"
   },
   "labels_anchors": false,
   "latex_user_defs": false,
   "report_style_numbering": false,
   "user_envs_cfg": false
  }
 },
 "nbformat": 4,
 "nbformat_minor": 2
}
